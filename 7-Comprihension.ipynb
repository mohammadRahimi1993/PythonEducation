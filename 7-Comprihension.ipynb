{
 "cells": [
  {
   "cell_type": "markdown",
   "id": "80dea75c",
   "metadata": {},
   "source": [
    "# List comprehension"
   ]
  },
  {
   "cell_type": "code",
   "execution_count": 6,
   "id": "77373625",
   "metadata": {},
   "outputs": [
    {
     "name": "stdout",
     "output_type": "stream",
     "text": [
      "1 2 3 4 5 6 7 "
     ]
    },
    {
     "data": {
      "text/plain": [
       "[None, None, None, None, None, None, None]"
      ]
     },
     "execution_count": 6,
     "metadata": {},
     "output_type": "execute_result"
    }
   ],
   "source": [
    "numbers = [1,2,3,4,5,6,7]\n",
    "[print(number, end=\" \") for number in numbers]"
   ]
  },
  {
   "cell_type": "code",
   "execution_count": 11,
   "id": "a4314368",
   "metadata": {},
   "outputs": [
    {
     "name": "stdout",
     "output_type": "stream",
     "text": [
      "4 5 6 7 \n",
      "4 5 6 7 "
     ]
    },
    {
     "data": {
      "text/plain": [
       "[None, None, None, None]"
      ]
     },
     "execution_count": 11,
     "metadata": {},
     "output_type": "execute_result"
    }
   ],
   "source": [
    "for num in numbers:\n",
    "    if num>3:\n",
    "        print(num, end=\" \")\n",
    "print( )       \n",
    "[print(num , end=\" \") for num in numbers if num>3]"
   ]
  },
  {
   "cell_type": "raw",
   "id": "9f35f97c",
   "metadata": {},
   "source": [
    "newlist = [expression for item in iterable if conditon == True ]"
   ]
  },
  {
   "cell_type": "code",
   "execution_count": 21,
   "id": "54c5e39b",
   "metadata": {},
   "outputs": [
    {
     "name": "stdout",
     "output_type": "stream",
     "text": [
      "[0, 1, 2, 3, 4, 5, 6, 7, 8, 9]\n",
      "[2, 3, 4, 5, 6, 7, 8, 9, 10, 11]\n"
     ]
    }
   ],
   "source": [
    "newlist = [num for num in range(0,10)]\n",
    "print(newlist)\n",
    "newlist.clear()\n",
    "newlist = [num+2 for num in range(0,10)]\n",
    "print(newlist)\n",
    "newlist.clear()"
   ]
  },
  {
   "cell_type": "code",
   "execution_count": 23,
   "id": "7db818ac",
   "metadata": {},
   "outputs": [
    {
     "name": "stdout",
     "output_type": "stream",
     "text": [
      "[0, 2, 2, 4, 4, 6, 6, 8, 8, 10]\n"
     ]
    }
   ],
   "source": [
    "newlist = [num if num%2 == 0 else num+1 for num in range(0,10)]\n",
    "print(newlist)"
   ]
  },
  {
   "cell_type": "code",
   "execution_count": 25,
   "id": "5e611b9a",
   "metadata": {},
   "outputs": [
    {
     "name": "stdout",
     "output_type": "stream",
     "text": [
      "[0, 2, 4, 6, 8]\n"
     ]
    }
   ],
   "source": [
    "newlist = [num for num in range(0,10) if num%2 == 0]\n",
    "print(newlist)"
   ]
  },
  {
   "cell_type": "markdown",
   "id": "10a7aabd",
   "metadata": {},
   "source": [
    "# Set comprehension"
   ]
  },
  {
   "cell_type": "markdown",
   "id": "23828ce8",
   "metadata": {},
   "source": [
    "# Dictionary comprehension"
   ]
  },
  {
   "cell_type": "code",
   "execution_count": null,
   "id": "fb13cb51",
   "metadata": {},
   "outputs": [],
   "source": []
  }
 ],
 "metadata": {
  "kernelspec": {
   "display_name": "Python 3 (ipykernel)",
   "language": "python",
   "name": "python3"
  },
  "language_info": {
   "codemirror_mode": {
    "name": "ipython",
    "version": 3
   },
   "file_extension": ".py",
   "mimetype": "text/x-python",
   "name": "python",
   "nbconvert_exporter": "python",
   "pygments_lexer": "ipython3",
   "version": "3.7.9"
  }
 },
 "nbformat": 4,
 "nbformat_minor": 5
}
