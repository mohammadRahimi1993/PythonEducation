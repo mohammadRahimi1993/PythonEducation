{
  "cells": [
    {
      "cell_type": "markdown",
      "metadata": {
        "id": "view-in-github",
        "colab_type": "text"
      },
      "source": [
        "<a href=\"https://colab.research.google.com/github/mohammadRahimi1993/PythonEducation/blob/main/Step0_Spark.ipynb\" target=\"_parent\"><img src=\"https://colab.research.google.com/assets/colab-badge.svg\" alt=\"Open In Colab\"/></a>"
      ]
    },
    {
      "cell_type": "code",
      "execution_count": 1,
      "metadata": {
        "colab": {
          "base_uri": "https://localhost:8080/"
        },
        "id": "7QI46SFKgK0Z",
        "outputId": "71113351-ad63-41be-d1c1-d2446f70e082"
      },
      "outputs": [
        {
          "output_type": "stream",
          "name": "stdout",
          "text": [
            "Mounted at /content/drive\n"
          ]
        }
      ],
      "source": [
        "from google.colab import drive\n",
        "drive.mount('/content/drive')"
      ],
      "id": "7QI46SFKgK0Z"
    },
    {
      "cell_type": "code",
      "source": [
        "# install java\n",
        "!apt-get install openjdk-8-jdk-headless -qq > /dev/null\n",
        "\n",
        "# install spark (change the version number if needed)\n",
        "!wget -q https://archive.apache.org/dist/spark/spark-3.0.0/spark-3.0.0-bin-hadoop3.2.tgz\n",
        "\n",
        "# unzip the spark file to the current folder\n",
        "!tar xf spark-3.0.0-bin-hadoop3.2.tgz\n",
        "\n",
        "# set your spark folder to your system path environment. \n",
        "import os\n",
        "os.environ[\"JAVA_HOME\"] = \"/usr/lib/jvm/java-8-openjdk-amd64\"\n",
        "os.environ[\"SPARK_HOME\"] = \"/content/spark-3.0.0-bin-hadoop3.2\"\n",
        "\n",
        "\n",
        "# install findspark using pip\n",
        "!pip install -q findspark"
      ],
      "metadata": {
        "id": "P7iwrPSggfaH"
      },
      "id": "P7iwrPSggfaH",
      "execution_count": 2,
      "outputs": []
    },
    {
      "cell_type": "code",
      "source": [
        "import findspark\n",
        "findspark.init()"
      ],
      "metadata": {
        "id": "1gWRJyV3gfe2"
      },
      "id": "1gWRJyV3gfe2",
      "execution_count": 3,
      "outputs": []
    },
    {
      "cell_type": "code",
      "execution_count": 4,
      "metadata": {
        "id": "FrRS3S0vgK0f"
      },
      "outputs": [],
      "source": [
        "import pyspark\n",
        "from pyspark.sql import SparkSession"
      ],
      "id": "FrRS3S0vgK0f"
    },
    {
      "cell_type": "code",
      "execution_count": 5,
      "metadata": {
        "id": "OfUcAw4BgK0g"
      },
      "outputs": [],
      "source": [
        "spark=SparkSession.builder.master(\"local[1]\").appName('Step0-Hands-On').getOrCreate()"
      ],
      "id": "OfUcAw4BgK0g"
    },
    {
      "cell_type": "code",
      "execution_count": 6,
      "metadata": {
        "scrolled": true,
        "colab": {
          "base_uri": "https://localhost:8080/"
        },
        "id": "hhUQKgI3gK0h",
        "outputId": "5b4c24f2-540b-4f14-91d0-208f705bbbf7"
      },
      "outputs": [
        {
          "output_type": "stream",
          "name": "stdout",
          "text": [
            "[1, 3, 4, 5, 7, 8, 9, 10, 11, 12, 13, 14, 16, 17, 18, 20, 21, 23, 24, 25, 26, 27, 28, 29, 30, 31, 32, 33, 34, 35, 37, 38, 39, 40, 41, 42, 43, 44, 46, 47, 48, 49, 50, 51, 52, 55, 56, 57, 58, 60, 61, 62, 63, 64, 66, 68, 69, 70, 71, 72, 73, 74, 75, 76, 79, 81, 83, 84, 85, 86, 87, 88, 89, 90, 91, 92, 93, 94, 95, 97, 99]\n",
            "--------------------------------------------------\n",
            "Pi is roughly 3.24\n"
          ]
        }
      ],
      "source": [
        "import random\n",
        "\n",
        "NUM_SAMPLES=100\n",
        "\n",
        "def inside(p):\n",
        "    x,y = random.random(), random.random()\n",
        "    return x*x + y*y < 1\n",
        "\n",
        "data_rdd = spark.sparkContext.parallelize(range(0,NUM_SAMPLES)).filter(inside)\n",
        "data = data_rdd.collect()\n",
        "print(data)\n",
        "print(\"-\"*50)\n",
        "print('Pi is roughly {}'.format(4.0 * len(data) / NUM_SAMPLES))"
      ],
      "id": "hhUQKgI3gK0h"
    },
    {
      "cell_type": "code",
      "execution_count": 7,
      "metadata": {
        "colab": {
          "base_uri": "https://localhost:8080/"
        },
        "id": "oO_9p4SAgK0i",
        "outputId": "22f60249-bb89-44f3-e1d3-c56fd1542457"
      },
      "outputs": [
        {
          "output_type": "execute_result",
          "data": {
            "text/plain": [
              "1"
            ]
          },
          "metadata": {},
          "execution_count": 7
        }
      ],
      "source": [
        "data_rdd.getNumPartitions()"
      ],
      "id": "oO_9p4SAgK0i"
    },
    {
      "cell_type": "markdown",
      "metadata": {
        "id": "UEoNYmcQgK0j"
      },
      "source": [
        "### Number of Partitions"
      ],
      "id": "UEoNYmcQgK0j"
    },
    {
      "cell_type": "code",
      "execution_count": 8,
      "metadata": {
        "colab": {
          "base_uri": "https://localhost:8080/"
        },
        "id": "A9LEG14XgK0n",
        "outputId": "6f0f1715-2d8a-4967-a1c9-d0de6a65dbbd"
      },
      "outputs": [
        {
          "output_type": "stream",
          "name": "stdout",
          "text": [
            "PythonRDD[3] at RDD at PythonRDD.scala:53\n",
            "--------------------------------------------------\n",
            "[0, 3, 4, 5, 6, 7, 9, 11, 13, 14, 16, 18, 20, 21, 22, 24, 25, 27, 28, 30, 31, 32, 33, 34, 35, 36, 39, 40, 41, 42, 43, 44, 45, 47, 48, 51, 53, 54, 55, 56, 57, 58, 59, 60, 61, 63, 64, 65, 66, 69, 73, 77, 78, 79, 81, 82, 84, 85, 87, 88, 90, 91, 93, 94, 95, 96, 97]\n",
            "--------------------------------------------------\n",
            "Pi is roughly 2.68\n",
            "--------------------------------------------------\n",
            "# Partitions : 12\n"
          ]
        }
      ],
      "source": [
        "data_rdd = spark.sparkContext.parallelize(range(0,NUM_SAMPLES),12).filter(inside)\n",
        "print(data_rdd)\n",
        "print(\"-\"*50)\n",
        "data = data_rdd.collect()\n",
        "print(data)\n",
        "print(\"-\"*50)\n",
        "print('Pi is roughly {}'.format(4.0 * len(data) / NUM_SAMPLES))\n",
        "print(\"-\"*50)\n",
        "print(f\"# Partitions : {data_rdd.getNumPartitions()}\")"
      ],
      "id": "A9LEG14XgK0n"
    },
    {
      "cell_type": "markdown",
      "metadata": {
        "id": "b7mWQJYxgK0q"
      },
      "source": [
        "### Some Basic RDD Operations"
      ],
      "id": "b7mWQJYxgK0q"
    },
    {
      "cell_type": "code",
      "execution_count": 9,
      "metadata": {
        "colab": {
          "base_uri": "https://localhost:8080/",
          "height": 36
        },
        "id": "jYbXRF3BgK0r",
        "outputId": "38321218-87a1-4622-d094-982e21a51e9d"
      },
      "outputs": [
        {
          "output_type": "execute_result",
          "data": {
            "text/plain": [
              "'3.0.0'"
            ],
            "application/vnd.google.colaboratory.intrinsic+json": {
              "type": "string"
            }
          },
          "metadata": {},
          "execution_count": 9
        }
      ],
      "source": [
        "spark.version"
      ],
      "id": "jYbXRF3BgK0r"
    },
    {
      "cell_type": "code",
      "execution_count": 10,
      "metadata": {
        "id": "RBqc8MCngK0s"
      },
      "outputs": [],
      "source": [
        "numbers = range(0,100)\n",
        "\n",
        "numbers_rdd= spark.sparkContext.parallelize(numbers,4)"
      ],
      "id": "RBqc8MCngK0s"
    },
    {
      "cell_type": "code",
      "execution_count": 11,
      "metadata": {
        "colab": {
          "base_uri": "https://localhost:8080/"
        },
        "id": "jUpjlNoQgK0t",
        "outputId": "2a23809a-ebe0-4166-b1ab-36a76bd3f21f"
      },
      "outputs": [
        {
          "output_type": "stream",
          "name": "stdout",
          "text": [
            "Help on method parallelize in module pyspark.context:\n",
            "\n",
            "parallelize(c, numSlices=None) method of pyspark.context.SparkContext instance\n",
            "    Distribute a local Python collection to form an RDD. Using xrange\n",
            "    is recommended if the input represents a range for performance.\n",
            "    \n",
            "    >>> sc.parallelize([0, 2, 3, 4, 6], 5).glom().collect()\n",
            "    [[0], [2], [3], [4], [6]]\n",
            "    >>> sc.parallelize(xrange(0, 6, 2), 5).glom().collect()\n",
            "    [[], [0], [], [2], [4]]\n",
            "\n"
          ]
        }
      ],
      "source": [
        "help(spark.sparkContext.parallelize)"
      ],
      "id": "jUpjlNoQgK0t"
    },
    {
      "cell_type": "code",
      "execution_count": 12,
      "metadata": {
        "colab": {
          "base_uri": "https://localhost:8080/"
        },
        "id": "Wttgm-8JgK0u",
        "outputId": "d5afd013-036b-4845-d07a-b600f0c11e73"
      },
      "outputs": [
        {
          "output_type": "stream",
          "name": "stdout",
          "text": [
            "Help on method glom in module pyspark.rdd:\n",
            "\n",
            "glom() method of pyspark.rdd.PipelinedRDD instance\n",
            "    Return an RDD created by coalescing all elements within each partition\n",
            "    into a list.\n",
            "    \n",
            "    >>> rdd = sc.parallelize([1, 2, 3, 4], 2)\n",
            "    >>> sorted(rdd.glom().collect())\n",
            "    [[1, 2], [3, 4]]\n",
            "\n"
          ]
        }
      ],
      "source": [
        "help(numbers_rdd.glom)"
      ],
      "id": "Wttgm-8JgK0u"
    },
    {
      "cell_type": "code",
      "execution_count": 13,
      "metadata": {
        "colab": {
          "base_uri": "https://localhost:8080/"
        },
        "id": "MAQfGzxPgK0u",
        "outputId": "07af8ea9-00cc-468c-e76f-c5f2e3c1e0b4"
      },
      "outputs": [
        {
          "output_type": "execute_result",
          "data": {
            "text/plain": [
              "[[0, 6, 12, 18, 24], [30, 36, 42, 48], [54, 60, 66, 72], [78, 84, 90, 96]]"
            ]
          },
          "metadata": {},
          "execution_count": 13
        }
      ],
      "source": [
        "numbers_rdd2= numbers_rdd.filter(lambda x: x%3==0 and x%2==0).glom()\n",
        "numbers_rdd2.collect()"
      ],
      "id": "MAQfGzxPgK0u"
    },
    {
      "cell_type": "code",
      "execution_count": 14,
      "metadata": {
        "colab": {
          "base_uri": "https://localhost:8080/"
        },
        "id": "CqAO_NAPgK0v",
        "outputId": "4b6efad4-f1e9-4526-94df-5fb15c24475b"
      },
      "outputs": [
        {
          "output_type": "execute_result",
          "data": {
            "text/plain": [
              "[[0, 6],\n",
              " [12, 18],\n",
              " [24],\n",
              " [30, 36],\n",
              " [42, 48],\n",
              " [54],\n",
              " [60, 66],\n",
              " [72, 78],\n",
              " [84],\n",
              " [90, 96]]"
            ]
          },
          "metadata": {},
          "execution_count": 14
        }
      ],
      "source": [
        "numbers_rdd3= spark.sparkContext.parallelize(numbers,10)\n",
        "numbers_rdd4= numbers_rdd3.filter(lambda x: x%3==0 and x%2==0).glom()\n",
        "numbers_rdd4.collect()"
      ],
      "id": "CqAO_NAPgK0v"
    },
    {
      "cell_type": "markdown",
      "metadata": {
        "id": "_T1SDedQgK0v"
      },
      "source": [
        "#### coalesce\n"
      ],
      "id": "_T1SDedQgK0v"
    },
    {
      "cell_type": "code",
      "execution_count": 20,
      "metadata": {
        "colab": {
          "base_uri": "https://localhost:8080/"
        },
        "id": "wRxrlRkdgK0w",
        "outputId": "61c5a300-06e2-41e8-c9cd-4883c3210cdc"
      },
      "outputs": [
        {
          "output_type": "execute_result",
          "data": {
            "text/plain": [
              "[[0, 6, 12, 18, 24, 30, 36, 42, 48], [54, 60, 66, 72, 78, 84, 90, 96]]"
            ]
          },
          "metadata": {},
          "execution_count": 20
        }
      ],
      "source": [
        "numbers_rdd5= numbers_rdd3.filter(lambda x: x%3==0 and x%2==0).coalesce(2).glom()\n",
        "numbers_rdd5.collect()"
      ],
      "id": "wRxrlRkdgK0w"
    },
    {
      "cell_type": "code",
      "execution_count": null,
      "metadata": {
        "colab": {
          "base_uri": "https://localhost:8080/"
        },
        "id": "GgW3g7BRgK0w",
        "outputId": "ce883832-3bc3-4565-84ba-dca694c71f9f"
      },
      "outputs": [
        {
          "output_type": "stream",
          "name": "stdout",
          "text": [
            "Help on method coalesce in module pyspark.rdd:\n",
            "\n",
            "coalesce(numPartitions, shuffle=False) method of pyspark.rdd.PipelinedRDD instance\n",
            "    Return a new RDD that is reduced into `numPartitions` partitions.\n",
            "    \n",
            "    >>> sc.parallelize([1, 2, 3, 4, 5], 3).glom().collect()\n",
            "    [[1], [2, 3], [4, 5]]\n",
            "    >>> sc.parallelize([1, 2, 3, 4, 5], 3).coalesce(1).glom().collect()\n",
            "    [[1, 2, 3, 4, 5]]\n",
            "\n"
          ]
        }
      ],
      "source": [
        "help(numbers_rdd.coalesce)"
      ],
      "id": "GgW3g7BRgK0w"
    },
    {
      "cell_type": "markdown",
      "metadata": {
        "id": "xnf_aQ-QgK0x"
      },
      "source": [
        "#### setName"
      ],
      "id": "xnf_aQ-QgK0x"
    },
    {
      "cell_type": "code",
      "execution_count": 21,
      "metadata": {
        "colab": {
          "base_uri": "https://localhost:8080/"
        },
        "id": "uOYc0K_YgK0x",
        "outputId": "92172fca-a31d-4af1-8e7f-2162ed0154bb"
      },
      "outputs": [
        {
          "output_type": "execute_result",
          "data": {
            "text/plain": [
              "Numbers_100_%6==0 PythonRDD[13] at collect at <ipython-input-20-e48a575489c8>:2"
            ]
          },
          "metadata": {},
          "execution_count": 21
        }
      ],
      "source": [
        "numbers_rdd5.setName(\"Numbers_100_%6==0\")"
      ],
      "id": "uOYc0K_YgK0x"
    },
    {
      "cell_type": "code",
      "execution_count": 22,
      "metadata": {
        "colab": {
          "base_uri": "https://localhost:8080/"
        },
        "id": "u6yodqDvgK0x",
        "outputId": "677f2987-6918-48c8-92e7-ed3157752f87"
      },
      "outputs": [
        {
          "output_type": "execute_result",
          "data": {
            "text/plain": [
              "13"
            ]
          },
          "metadata": {},
          "execution_count": 22
        }
      ],
      "source": [
        "numbers_rdd5.id()"
      ],
      "id": "u6yodqDvgK0x"
    },
    {
      "cell_type": "markdown",
      "metadata": {
        "id": "vmKn868TgK0y"
      },
      "source": [
        "### Get RDD Objects"
      ],
      "id": "vmKn868TgK0y"
    },
    {
      "cell_type": "code",
      "execution_count": 23,
      "metadata": {
        "colab": {
          "base_uri": "https://localhost:8080/"
        },
        "id": "smtkbGaugK0z",
        "outputId": "66342eb7-b3cf-4eaf-8fca-9d71afadc27b"
      },
      "outputs": [
        {
          "output_type": "execute_result",
          "data": {
            "text/plain": [
              "0"
            ]
          },
          "metadata": {},
          "execution_count": 23
        }
      ],
      "source": [
        "numbers_rdd.first()"
      ],
      "id": "smtkbGaugK0z"
    },
    {
      "cell_type": "code",
      "execution_count": 28,
      "metadata": {
        "colab": {
          "base_uri": "https://localhost:8080/"
        },
        "id": "Z4kClSdtgK0z",
        "outputId": "545f6f05-f70d-405f-fc5e-0eea672f3048"
      },
      "outputs": [
        {
          "output_type": "execute_result",
          "data": {
            "text/plain": [
              "[[54, 60, 66, 72, 78, 84, 90, 96]]"
            ]
          },
          "metadata": {},
          "execution_count": 28
        }
      ],
      "source": [
        "numbers_rdd5.top(1)"
      ],
      "id": "Z4kClSdtgK0z"
    },
    {
      "cell_type": "code",
      "execution_count": 29,
      "metadata": {
        "colab": {
          "base_uri": "https://localhost:8080/"
        },
        "id": "21vHnfbygK00",
        "outputId": "a8c9a0a0-6bff-4ebd-baff-1c04d9e2e670"
      },
      "outputs": [
        {
          "output_type": "execute_result",
          "data": {
            "text/plain": [
              "[0, 1, 2, 3, 4, 5, 6, 7, 8, 9]"
            ]
          },
          "metadata": {},
          "execution_count": 29
        }
      ],
      "source": [
        "numbers_rdd.take(10)"
      ],
      "id": "21vHnfbygK00"
    },
    {
      "cell_type": "code",
      "execution_count": 30,
      "metadata": {
        "colab": {
          "base_uri": "https://localhost:8080/"
        },
        "id": "eYPOfzB4gK00",
        "outputId": "4bd9afaf-6d26-4448-b350-9a5f289e0ed7"
      },
      "outputs": [
        {
          "output_type": "execute_result",
          "data": {
            "text/plain": [
              "[99, 98, 97, 96, 95, 94, 93, 92, 91, 90]"
            ]
          },
          "metadata": {},
          "execution_count": 30
        }
      ],
      "source": [
        "numbers_rdd.top(10)"
      ],
      "id": "eYPOfzB4gK00"
    },
    {
      "cell_type": "code",
      "execution_count": 31,
      "metadata": {
        "colab": {
          "base_uri": "https://localhost:8080/"
        },
        "id": "VdISN6lCgK00",
        "outputId": "e5752c98-52ad-4e74-eabd-749c8745fb6f"
      },
      "outputs": [
        {
          "output_type": "execute_result",
          "data": {
            "text/plain": [
              "[0, 1, 2, 3, 4, 5, 6, 7, 8, 9]"
            ]
          },
          "metadata": {},
          "execution_count": 31
        }
      ],
      "source": [
        "numbers_rdd.takeOrdered(10)"
      ],
      "id": "VdISN6lCgK00"
    },
    {
      "cell_type": "code",
      "execution_count": 32,
      "metadata": {
        "colab": {
          "base_uri": "https://localhost:8080/"
        },
        "id": "dy3h8gZ2gK01",
        "outputId": "c37a0b19-1317-4b62-bd90-14e5f448fabe"
      },
      "outputs": [
        {
          "output_type": "stream",
          "name": "stdout",
          "text": [
            "Help on method takeOrdered in module pyspark.rdd:\n",
            "\n",
            "takeOrdered(num, key=None) method of pyspark.rdd.PipelinedRDD instance\n",
            "    Get the N elements from an RDD ordered in ascending order or as\n",
            "    specified by the optional key function.\n",
            "    \n",
            "    .. note:: this method should only be used if the resulting array is expected\n",
            "        to be small, as all the data is loaded into the driver's memory.\n",
            "    \n",
            "    >>> sc.parallelize([10, 1, 2, 9, 3, 4, 5, 6, 7]).takeOrdered(6)\n",
            "    [1, 2, 3, 4, 5, 6]\n",
            "    >>> sc.parallelize([10, 1, 2, 9, 3, 4, 5, 6, 7], 2).takeOrdered(6, key=lambda x: -x)\n",
            "    [10, 9, 7, 6, 5, 4]\n",
            "\n"
          ]
        }
      ],
      "source": [
        "help(numbers_rdd.takeOrdered)"
      ],
      "id": "dy3h8gZ2gK01"
    },
    {
      "cell_type": "code",
      "execution_count": null,
      "metadata": {
        "colab": {
          "base_uri": "https://localhost:8080/"
        },
        "id": "W7RHFAyTgK01",
        "outputId": "d25935bc-8123-4e72-9bc6-7c946d032651"
      },
      "outputs": [
        {
          "output_type": "execute_result",
          "data": {
            "text/plain": [
              "[99, 98, 97, 96, 95, 94, 93, 92, 91, 90]"
            ]
          },
          "metadata": {},
          "execution_count": 25
        }
      ],
      "source": [
        "numbers_rdd.takeOrdered(10,key=lambda x : -x)"
      ],
      "id": "W7RHFAyTgK01"
    },
    {
      "cell_type": "code",
      "execution_count": null,
      "metadata": {
        "colab": {
          "base_uri": "https://localhost:8080/"
        },
        "id": "7QQGOJAcgK01",
        "outputId": "4e9cb14b-1145-42e2-ade3-d0e4defbf773"
      },
      "outputs": [
        {
          "output_type": "execute_result",
          "data": {
            "text/plain": [
              "[[24],\n",
              " [54],\n",
              " [84],\n",
              " [0, 6],\n",
              " [12, 18],\n",
              " [30, 36],\n",
              " [42, 48],\n",
              " [60, 66],\n",
              " [72, 78],\n",
              " [90, 96]]"
            ]
          },
          "metadata": {},
          "execution_count": 26
        }
      ],
      "source": [
        "numbers_rdd4.takeOrdered(10,key=lambda x : len(x))"
      ],
      "id": "7QQGOJAcgK01"
    },
    {
      "cell_type": "code",
      "execution_count": null,
      "metadata": {
        "colab": {
          "base_uri": "https://localhost:8080/"
        },
        "id": "o7bWcLiegK01",
        "outputId": "a2f0dcfd-cd6e-4a56-8b00-a0fc7db19ab5"
      },
      "outputs": [
        {
          "output_type": "execute_result",
          "data": {
            "text/plain": [
              "[[90, 96],\n",
              " [84],\n",
              " [72, 78],\n",
              " [60, 66],\n",
              " [54],\n",
              " [42, 48],\n",
              " [30, 36],\n",
              " [24],\n",
              " [12, 18],\n",
              " [0, 6]]"
            ]
          },
          "metadata": {},
          "execution_count": 27
        }
      ],
      "source": [
        "numbers_rdd4.takeOrdered(10,key=lambda x : -x[-1])"
      ],
      "id": "o7bWcLiegK01"
    },
    {
      "cell_type": "code",
      "execution_count": 35,
      "metadata": {
        "colab": {
          "base_uri": "https://localhost:8080/"
        },
        "id": "lfm0dWs2gK02",
        "outputId": "242830f1-8b19-48db-d463-44c1e9c34159"
      },
      "outputs": [
        {
          "output_type": "execute_result",
          "data": {
            "text/plain": [
              "[33, 53, 62, 68, 81]"
            ]
          },
          "metadata": {},
          "execution_count": 35
        }
      ],
      "source": [
        "numbers_rdd.sample(withReplacement=False, fraction=0.1).collect()"
      ],
      "id": "lfm0dWs2gK02"
    },
    {
      "cell_type": "markdown",
      "metadata": {
        "id": "jsV_Qn-VgK02"
      },
      "source": [
        "### Arithmetic Functions"
      ],
      "id": "jsV_Qn-VgK02"
    },
    {
      "cell_type": "code",
      "execution_count": 36,
      "metadata": {
        "colab": {
          "base_uri": "https://localhost:8080/"
        },
        "id": "Oh5tz3xigK02",
        "outputId": "5646200d-d8d1-4fed-9b82-bc97445ca43d"
      },
      "outputs": [
        {
          "output_type": "execute_result",
          "data": {
            "text/plain": [
              "100"
            ]
          },
          "metadata": {},
          "execution_count": 36
        }
      ],
      "source": [
        "numbers_rdd.count()"
      ],
      "id": "Oh5tz3xigK02"
    },
    {
      "cell_type": "code",
      "execution_count": 37,
      "metadata": {
        "colab": {
          "base_uri": "https://localhost:8080/"
        },
        "id": "o6NHyKk-gK03",
        "outputId": "1b843f5d-796e-47ac-b62a-dbf4a12a8d74"
      },
      "outputs": [
        {
          "output_type": "execute_result",
          "data": {
            "text/plain": [
              "[2, 3, 5, 7, 11, 13, 17, 19, 23, 29, 31, 37, 41, 43, 47]"
            ]
          },
          "metadata": {},
          "execution_count": 37
        }
      ],
      "source": [
        "def isPrime(n) :\n",
        "    prime=True\n",
        "    if n==0 or n==1 :\n",
        "        return False\n",
        "    for i in range(2, n//2+1) :\n",
        "        if n%i == 0 :\n",
        "            prime=False\n",
        "            break\n",
        "    return prime\n",
        "numbers_rdd.filter(isPrime).take(15)"
      ],
      "id": "o6NHyKk-gK03"
    },
    {
      "cell_type": "code",
      "execution_count": 38,
      "metadata": {
        "colab": {
          "base_uri": "https://localhost:8080/"
        },
        "id": "8sPDm6mVgK03",
        "outputId": "cae2b2e0-c818-418c-9f53-e242ffca43b5"
      },
      "outputs": [
        {
          "output_type": "execute_result",
          "data": {
            "text/plain": [
              "2"
            ]
          },
          "metadata": {},
          "execution_count": 38
        }
      ],
      "source": [
        "numbers_rdd.filter(isPrime).min()"
      ],
      "id": "8sPDm6mVgK03"
    },
    {
      "cell_type": "code",
      "execution_count": 39,
      "metadata": {
        "colab": {
          "base_uri": "https://localhost:8080/"
        },
        "id": "JF8uyov9gK05",
        "outputId": "6389e0d6-924b-4f52-fb41-41f14099212c"
      },
      "outputs": [
        {
          "output_type": "execute_result",
          "data": {
            "text/plain": [
              "97"
            ]
          },
          "metadata": {},
          "execution_count": 39
        }
      ],
      "source": [
        "numbers_rdd.filter(isPrime).max()"
      ],
      "id": "JF8uyov9gK05"
    },
    {
      "cell_type": "code",
      "execution_count": 40,
      "metadata": {
        "colab": {
          "base_uri": "https://localhost:8080/"
        },
        "id": "i3E4W7eMgK05",
        "outputId": "c8759d99-9be8-426a-f564-40d5c8c8a149"
      },
      "outputs": [
        {
          "output_type": "execute_result",
          "data": {
            "text/plain": [
              "42.4"
            ]
          },
          "metadata": {},
          "execution_count": 40
        }
      ],
      "source": [
        "numbers_rdd.filter(isPrime).mean()"
      ],
      "id": "i3E4W7eMgK05"
    },
    {
      "cell_type": "code",
      "execution_count": null,
      "metadata": {
        "colab": {
          "base_uri": "https://localhost:8080/"
        },
        "id": "_EWR-ByOgK06",
        "outputId": "c1573cd2-3749-478e-de38-48fdaa8096f8"
      },
      "outputs": [
        {
          "output_type": "execute_result",
          "data": {
            "text/plain": [
              "[1, 1, 1, 2, 1, 2, 3, 3, 3, 2]"
            ]
          },
          "metadata": {},
          "execution_count": 34
        }
      ],
      "source": [
        "my_list= [ random.randint(0,4) for x in range(0,10)]\n",
        "my_list"
      ],
      "id": "_EWR-ByOgK06"
    },
    {
      "cell_type": "code",
      "execution_count": null,
      "metadata": {
        "colab": {
          "base_uri": "https://localhost:8080/"
        },
        "id": "Iq5k4938gK06",
        "outputId": "464fa79f-100d-4551-e18f-50a2e4474b7c"
      },
      "outputs": [
        {
          "output_type": "execute_result",
          "data": {
            "text/plain": [
              "defaultdict(int, {1: 4, 2: 3, 3: 3})"
            ]
          },
          "metadata": {},
          "execution_count": 35
        }
      ],
      "source": [
        "mylist_rdd= spark.sparkContext.parallelize(my_list,2)\n",
        "mylist_rdd.countByValue()"
      ],
      "id": "Iq5k4938gK06"
    },
    {
      "cell_type": "markdown",
      "metadata": {
        "id": "VhrwOTVjgK06"
      },
      "source": [
        "### map / flatMap     "
      ],
      "id": "VhrwOTVjgK06"
    },
    {
      "cell_type": "code",
      "execution_count": 41,
      "metadata": {
        "colab": {
          "base_uri": "https://localhost:8080/"
        },
        "id": "Vw8B3fGagK06",
        "outputId": "31cdb5ef-e4f8-4b4d-b1e7-77b0c4b254b7"
      },
      "outputs": [
        {
          "output_type": "execute_result",
          "data": {
            "text/plain": [
              "[(1, 't'), (2, 'b'), (3, 'r')]"
            ]
          },
          "metadata": {},
          "execution_count": 41
        }
      ],
      "source": [
        "tuple_list = [(1,'t'),(2,'b'),(3,'r')]\n",
        "tuple_rdd= spark.sparkContext.parallelize(tuple_list,2)\n",
        "\n",
        "tuple_rdd.collect()\n"
      ],
      "id": "Vw8B3fGagK06"
    },
    {
      "cell_type": "code",
      "execution_count": 42,
      "metadata": {
        "colab": {
          "base_uri": "https://localhost:8080/"
        },
        "id": "f7Me0dXngK07",
        "outputId": "6d8d6487-08d9-4263-f137-1b5aa4980870"
      },
      "outputs": [
        {
          "output_type": "execute_result",
          "data": {
            "text/plain": [
              "[(1, 't'), (4, 'b'), (9, 'r')]"
            ]
          },
          "metadata": {},
          "execution_count": 42
        }
      ],
      "source": [
        "tuple_rdd.map(lambda x: (x[0]**2,x[1])).collect()"
      ],
      "id": "f7Me0dXngK07"
    },
    {
      "cell_type": "code",
      "execution_count": 43,
      "metadata": {
        "colab": {
          "base_uri": "https://localhost:8080/"
        },
        "id": "WOCCMzOTgK07",
        "outputId": "7ccab2b3-50b9-4482-b106-a79e42e4a4af"
      },
      "outputs": [
        {
          "output_type": "execute_result",
          "data": {
            "text/plain": [
              "['ttt', 'bbb', 'rrr']"
            ]
          },
          "metadata": {},
          "execution_count": 43
        }
      ],
      "source": [
        "tuple_rdd.map(lambda x: x[1]*3).collect()"
      ],
      "id": "WOCCMzOTgK07"
    },
    {
      "cell_type": "code",
      "execution_count": 44,
      "metadata": {
        "colab": {
          "base_uri": "https://localhost:8080/"
        },
        "id": "4h6I2r8mgK07",
        "outputId": "e9f58aa9-526e-43e8-ec37-29deef2f8c93"
      },
      "outputs": [
        {
          "output_type": "execute_result",
          "data": {
            "text/plain": [
              "[('ttttttt', 7, 1), ('bbbbbbbbbb', 10, 2), ('rrr', 3, 3)]"
            ]
          },
          "metadata": {},
          "execution_count": 44
        }
      ],
      "source": [
        "import random\n",
        "def test(x) : \n",
        "    x0 = x[1] * random.randint(1,10)\n",
        "    x1 = len(x0)\n",
        "    return (x0,x1, x[0])\n",
        "\n",
        "tuple_rdd.map(test).collect()"
      ],
      "id": "4h6I2r8mgK07"
    },
    {
      "cell_type": "markdown",
      "metadata": {
        "id": "6hFNtpVZgK07"
      },
      "source": [
        "flatMap : \n",
        "\n",
        "Return a new RDD by first applying a function to all elements of this RDD, and then flattening the results.\n",
        "\n"
      ],
      "id": "6hFNtpVZgK07"
    },
    {
      "cell_type": "code",
      "execution_count": 46,
      "metadata": {
        "colab": {
          "base_uri": "https://localhost:8080/"
        },
        "id": "J6RYEKMKgK08",
        "outputId": "1e330cd2-bef2-4e22-9307-4e570f75c587"
      },
      "outputs": [
        {
          "output_type": "execute_result",
          "data": {
            "text/plain": [
              "[[11, 3, 9], [14, 11, 0], [7, 10, 7, 9]]"
            ]
          },
          "metadata": {},
          "execution_count": 46
        }
      ],
      "source": [
        "numbers_random= spark.sparkContext.parallelize([random.randint(0,20) for x in range(10)], 3)\n",
        "numbers_random.glom().collect()"
      ],
      "id": "J6RYEKMKgK08"
    },
    {
      "cell_type": "code",
      "execution_count": 47,
      "metadata": {
        "colab": {
          "base_uri": "https://localhost:8080/"
        },
        "id": "L_P-6plngK08",
        "outputId": "ebef891e-cf4e-4196-cdc4-17370ac40083"
      },
      "outputs": [
        {
          "output_type": "execute_result",
          "data": {
            "text/plain": [
              "[11, 3, 9, 14, 11, 0, 7, 10, 7, 9]"
            ]
          },
          "metadata": {},
          "execution_count": 47
        }
      ],
      "source": [
        "numbers_random.glom().flatMap(lambda x: x).collect()"
      ],
      "id": "L_P-6plngK08"
    },
    {
      "cell_type": "code",
      "execution_count": 49,
      "metadata": {
        "colab": {
          "base_uri": "https://localhost:8080/"
        },
        "id": "3VtNqHHogK08",
        "outputId": "373bd6b4-7b20-4bf4-d923-907b866e1b39"
      },
      "outputs": [
        {
          "output_type": "stream",
          "name": "stdout",
          "text": [
            "[(1, 't'), (2, 'b'), (3, 'r')]\n"
          ]
        },
        {
          "output_type": "execute_result",
          "data": {
            "text/plain": [
              "[1, 't', 4, 'b', 9, 'r']"
            ]
          },
          "metadata": {},
          "execution_count": 49
        }
      ],
      "source": [
        "print(tuple_rdd.collect())\n",
        "tuple_rdd.flatMap(lambda x: (x[0]**2,x[1])).collect()"
      ],
      "id": "3VtNqHHogK08"
    },
    {
      "cell_type": "code",
      "execution_count": 50,
      "metadata": {
        "colab": {
          "base_uri": "https://localhost:8080/"
        },
        "id": "aM40rQy6gK08",
        "outputId": "70c56735-8a49-4621-ede7-0cad3c9c7c34"
      },
      "outputs": [
        {
          "output_type": "execute_result",
          "data": {
            "text/plain": [
              "[4, 'b', 9, 'r']"
            ]
          },
          "metadata": {},
          "execution_count": 50
        }
      ],
      "source": [
        "tuple_rdd.filter(lambda x : x[0]>1).flatMap(lambda x: (x[0]**2,x[1])).collect()"
      ],
      "id": "aM40rQy6gK08"
    },
    {
      "cell_type": "markdown",
      "metadata": {
        "id": "qycdAZDCgK09"
      },
      "source": [
        "#### reduce / reduceBy"
      ],
      "id": "qycdAZDCgK09"
    },
    {
      "cell_type": "code",
      "execution_count": 52,
      "metadata": {
        "colab": {
          "base_uri": "https://localhost:8080/"
        },
        "id": "TuPOTul1gK09",
        "outputId": "ded5870d-27a2-4562-a6b2-21a3d7298582"
      },
      "outputs": [
        {
          "output_type": "stream",
          "name": "stdout",
          "text": [
            "[[4], [7], [23], [30]]\n"
          ]
        },
        {
          "output_type": "execute_result",
          "data": {
            "text/plain": [
              "10"
            ]
          },
          "metadata": {},
          "execution_count": 52
        }
      ],
      "source": [
        "# from math import abs\n",
        "def dif(a,b) :\n",
        "    return abs(a-b)\n",
        "\n",
        "numbers_new = [4,7,23,30]\n",
        "numbers_new_rdd = spark.sparkContext.parallelize(numbers_new,4)\n",
        "\n",
        "t = numbers_new_rdd.glom().collect()\n",
        "print(t)\n",
        "numbers_new_rdd.reduce(dif)\n"
      ],
      "id": "TuPOTul1gK09"
    },
    {
      "cell_type": "code",
      "execution_count": 53,
      "metadata": {
        "colab": {
          "base_uri": "https://localhost:8080/"
        },
        "id": "Uj79cw_BgK09",
        "outputId": "c5dbf50e-b288-47bb-bcdd-4ba1833db201"
      },
      "outputs": [
        {
          "output_type": "stream",
          "name": "stdout",
          "text": [
            "[[4], [7], [23, 30]]\n"
          ]
        },
        {
          "output_type": "execute_result",
          "data": {
            "text/plain": [
              "64"
            ]
          },
          "metadata": {},
          "execution_count": 53
        }
      ],
      "source": [
        "def add(a,b) :\n",
        "    return a+b\n",
        "\n",
        "numbers_new = [4,7,23,30]\n",
        "numbers_new_rdd = spark.sparkContext.parallelize(numbers_new,3)\n",
        "\n",
        "t = numbers_new_rdd.glom().collect()\n",
        "print(t)\n",
        "numbers_new_rdd.reduce(add)\n"
      ],
      "id": "Uj79cw_BgK09"
    },
    {
      "cell_type": "code",
      "source": [
        "help(numbers_new_rdd.fold)"
      ],
      "metadata": {
        "id": "w5NM1sYQ-RCO",
        "outputId": "47a36361-d7ee-414a-ce54-f812c62d4e67",
        "colab": {
          "base_uri": "https://localhost:8080/"
        }
      },
      "id": "w5NM1sYQ-RCO",
      "execution_count": 56,
      "outputs": [
        {
          "output_type": "stream",
          "name": "stdout",
          "text": [
            "Help on method fold in module pyspark.rdd:\n",
            "\n",
            "fold(zeroValue, op) method of pyspark.rdd.RDD instance\n",
            "    Aggregate the elements of each partition, and then the results for all\n",
            "    the partitions, using a given associative function and a neutral \"zero value.\"\n",
            "    \n",
            "    The function ``op(t1, t2)`` is allowed to modify ``t1`` and return it\n",
            "    as its result value to avoid object allocation; however, it should not\n",
            "    modify ``t2``.\n",
            "    \n",
            "    This behaves somewhat differently from fold operations implemented\n",
            "    for non-distributed collections in functional languages like Scala.\n",
            "    This fold operation may be applied to partitions individually, and then\n",
            "    fold those results into the final result, rather than apply the fold\n",
            "    to each element sequentially in some defined ordering. For functions\n",
            "    that are not commutative, the result may differ from that of a fold\n",
            "    applied to a non-distributed collection.\n",
            "    \n",
            "    >>> from operator import add\n",
            "    >>> sc.parallelize([1, 2, 3, 4, 5]).fold(0, add)\n",
            "    15\n",
            "\n"
          ]
        }
      ]
    },
    {
      "cell_type": "code",
      "execution_count": 60,
      "metadata": {
        "colab": {
          "base_uri": "https://localhost:8080/"
        },
        "id": "uDKcJkXmgK0-",
        "outputId": "37bf4772-dc7a-420e-bc18-30b30d63212e"
      },
      "outputs": [
        {
          "output_type": "execute_result",
          "data": {
            "text/plain": [
              "64"
            ]
          },
          "metadata": {},
          "execution_count": 60
        }
      ],
      "source": [
        "numbers_new_rdd.fold(0,add)"
      ],
      "id": "uDKcJkXmgK0-"
    },
    {
      "cell_type": "code",
      "execution_count": 63,
      "metadata": {
        "colab": {
          "base_uri": "https://localhost:8080/"
        },
        "id": "AdV60Dg6gK0-",
        "outputId": "bcf208e7-fd0c-4ca6-c23a-b7d22fbd59ae"
      },
      "outputs": [
        {
          "output_type": "stream",
          "name": "stdout",
          "text": [
            "[[('a', 10)], [('b', 5), ('a', 6)]]\n",
            "[('b', <pyspark.resultiterable.ResultIterable object at 0x7fc62f71f340>), ('a', <pyspark.resultiterable.ResultIterable object at 0x7fc62f71f1f0>)]\n"
          ]
        }
      ],
      "source": [
        "paired_list = [('a',10), ('b',5), ('a',6)]\n",
        "paired_rdd = spark.sparkContext.parallelize(paired_list,2)\n",
        "print(paired_rdd.glom().collect())\n",
        "print(paired_rdd.groupByKey().collect())"
      ],
      "id": "AdV60Dg6gK0-"
    },
    {
      "cell_type": "code",
      "execution_count": 64,
      "metadata": {
        "colab": {
          "base_uri": "https://localhost:8080/"
        },
        "id": "befWKcSRgK0-",
        "outputId": "109f5e06-2200-4c42-ceea-cb225bc4e7a1"
      },
      "outputs": [
        {
          "output_type": "execute_result",
          "data": {
            "text/plain": [
              "[('b', 5), ('a', 16)]"
            ]
          },
          "metadata": {},
          "execution_count": 64
        }
      ],
      "source": [
        "paired_rdd.groupByKey().mapValues(lambda x : sum(x)).collect()"
      ],
      "id": "befWKcSRgK0-"
    },
    {
      "cell_type": "code",
      "execution_count": 65,
      "metadata": {
        "scrolled": true,
        "colab": {
          "base_uri": "https://localhost:8080/"
        },
        "id": "ih8824X_gK0_",
        "outputId": "ed93c46c-4a73-46b1-e54b-721aaeedaf38"
      },
      "outputs": [
        {
          "output_type": "stream",
          "name": "stdout",
          "text": [
            "(2) PythonRDD[70] at RDD at PythonRDD.scala:53 []\n",
            " |  MapPartitionsRDD[69] at mapPartitions at PythonRDD.scala:133 []\n",
            " |  ShuffledRDD[68] at partitionBy at NativeMethodAccessorImpl.java:0 []\n",
            " +-(2) PairwiseRDD[67] at groupByKey at <ipython-input-65-aab1acb1a315>:1 []\n",
            "    |  PythonRDD[66] at groupByKey at <ipython-input-65-aab1acb1a315>:1 []\n",
            "    |  ParallelCollectionRDD[54] at readRDDFromFile at PythonRDD.scala:262 []\n"
          ]
        }
      ],
      "source": [
        "print(paired_rdd.groupByKey().mapValues(lambda x : sum(x)).toDebugString().decode('utf-8'))"
      ],
      "id": "ih8824X_gK0_"
    },
    {
      "cell_type": "code",
      "execution_count": 66,
      "metadata": {
        "colab": {
          "base_uri": "https://localhost:8080/"
        },
        "id": "CgbiQ0zOgK0_",
        "outputId": "8d06c13e-bb43-486b-b4c4-5c27ce2e20ab"
      },
      "outputs": [
        {
          "output_type": "execute_result",
          "data": {
            "text/plain": [
              "[('b', 5), ('a', 16)]"
            ]
          },
          "metadata": {},
          "execution_count": 66
        }
      ],
      "source": [
        "paired_rdd.reduceByKey(add).collect()"
      ],
      "id": "CgbiQ0zOgK0_"
    },
    {
      "cell_type": "code",
      "execution_count": 67,
      "metadata": {
        "colab": {
          "base_uri": "https://localhost:8080/"
        },
        "id": "YnyJXqVHgK1A",
        "outputId": "aa2423f2-0991-4e16-dbb6-e71b17236ebb"
      },
      "outputs": [
        {
          "output_type": "stream",
          "name": "stdout",
          "text": [
            "(2) PythonRDD[80] at RDD at PythonRDD.scala:53 []\n",
            " |  MapPartitionsRDD[79] at mapPartitions at PythonRDD.scala:133 []\n",
            " |  ShuffledRDD[78] at partitionBy at NativeMethodAccessorImpl.java:0 []\n",
            " +-(2) PairwiseRDD[77] at reduceByKey at <ipython-input-67-e660eb148bba>:1 []\n",
            "    |  PythonRDD[76] at reduceByKey at <ipython-input-67-e660eb148bba>:1 []\n",
            "    |  ParallelCollectionRDD[54] at readRDDFromFile at PythonRDD.scala:262 []\n"
          ]
        }
      ],
      "source": [
        "print(paired_rdd.reduceByKey(add).toDebugString().decode('utf-8'))"
      ],
      "id": "YnyJXqVHgK1A"
    },
    {
      "cell_type": "markdown",
      "metadata": {
        "id": "slygIf_RgK1A"
      },
      "source": [
        "### cache"
      ],
      "id": "slygIf_RgK1A"
    },
    {
      "cell_type": "code",
      "execution_count": 68,
      "metadata": {
        "colab": {
          "base_uri": "https://localhost:8080/"
        },
        "id": "D05jBSK0gK1A",
        "outputId": "d73def17-eb17-4547-8ad7-2d111d6032ed"
      },
      "outputs": [
        {
          "output_type": "stream",
          "name": "stdout",
          "text": [
            "(2) PythonRDD[87] at RDD at PythonRDD.scala:53 []\n",
            " |  PythonRDD[85] at RDD at PythonRDD.scala:53 []\n",
            " |      CachedPartitions: 2; MemorySize: 287.0 B; ExternalBlockStoreSize: 0.0 B; DiskSize: 0.0 B\n",
            " |  MapPartitionsRDD[84] at mapPartitions at PythonRDD.scala:133 []\n",
            " |  ShuffledRDD[83] at partitionBy at NativeMethodAccessorImpl.java:0 []\n",
            " +-(2) PairwiseRDD[82] at groupByKey at <ipython-input-68-dcdfeba87f2e>:1 []\n",
            "    |  PythonRDD[81] at groupByKey at <ipython-input-68-dcdfeba87f2e>:1 []\n",
            "    |  ParallelCollectionRDD[54] at readRDDFromFile at PythonRDD.scala:262 []\n"
          ]
        }
      ],
      "source": [
        "new_rdd = paired_rdd.groupByKey()\n",
        "new_rdd.cache()\n",
        "new_rdd.mapValues(lambda x : sum(x)).collect()\n",
        "print(new_rdd.mapValues(lambda x : sum(x)).toDebugString().decode('utf-8'))"
      ],
      "id": "D05jBSK0gK1A"
    },
    {
      "cell_type": "code",
      "execution_count": 69,
      "metadata": {
        "colab": {
          "base_uri": "https://localhost:8080/"
        },
        "id": "jfg7ShVAgK1B",
        "outputId": "bd8ef0a2-5e21-476d-a413-3ca597f9f259"
      },
      "outputs": [
        {
          "output_type": "stream",
          "name": "stdout",
          "text": [
            "Memory Serialized 1x Replicated\n"
          ]
        }
      ],
      "source": [
        "print(new_rdd.getStorageLevel())"
      ],
      "id": "jfg7ShVAgK1B"
    },
    {
      "cell_type": "code",
      "execution_count": 70,
      "metadata": {
        "colab": {
          "base_uri": "https://localhost:8080/"
        },
        "id": "vLitd3V2gK1B",
        "outputId": "f3c12802-03bd-453c-8460-6e2f4db30cd2"
      },
      "outputs": [
        {
          "output_type": "stream",
          "name": "stdout",
          "text": [
            "Disk Serialized 1x Replicated\n"
          ]
        }
      ],
      "source": [
        "from pyspark import StorageLevel\n",
        "new_rdd.unpersist()\n",
        "new_rdd.persist(StorageLevel.DISK_ONLY)\n",
        "print(new_rdd.getStorageLevel())"
      ],
      "id": "vLitd3V2gK1B"
    },
    {
      "cell_type": "markdown",
      "metadata": {
        "id": "xjGNP39dgK1C"
      },
      "source": [
        "DISK_ONLY = StorageLevel(True, False, False, False, 1)\n",
        "\n",
        "DISK_ONLY_2 = StorageLevel(True, False, False, False, 2)\n",
        "\n",
        "MEMORY_AND_DISK = StorageLevel(True, True, False, False, 1)\n",
        "\n",
        "MEMORY_AND_DISK_2 = StorageLevel(True, True, False, False, 2)\n",
        "\n",
        "MEMORY_AND_DISK_SER = StorageLevel(True, True, False, False, 1)\n",
        "\n",
        "MEMORY_AND_DISK_SER_2 = StorageLevel(True, True, False, False, 2)\n",
        "\n",
        "MEMORY_ONLY = StorageLevel(False, True, False, False, 1)\n",
        "\n",
        "MEMORY_ONLY_2 = StorageLevel(False, True, False, False, 2)\n",
        "\n",
        "MEMORY_ONLY_SER = StorageLevel(False, True, False, False, 1)\n",
        "\n",
        "MEMORY_ONLY_SER_2 = StorageLevel(False, True, False, False, 2)\n",
        "\n",
        "OFF_HEAP = StorageLevel(True, True, True, False, 1)"
      ],
      "id": "xjGNP39dgK1C"
    },
    {
      "cell_type": "markdown",
      "metadata": {
        "id": "79lLy8MLgK1C"
      },
      "source": [
        "### Working With Dataframes"
      ],
      "id": "79lLy8MLgK1C"
    },
    {
      "cell_type": "code",
      "execution_count": 72,
      "metadata": {
        "colab": {
          "base_uri": "https://localhost:8080/"
        },
        "id": "wBJOHlX-gK1C",
        "outputId": "b07b709d-46ed-4388-d1f1-c7297fd2fbca"
      },
      "outputs": [
        {
          "output_type": "stream",
          "name": "stdout",
          "text": [
            "+----+-----+--------------------+\n",
            "| _c0|  _c1|                 _c2|\n",
            "+----+-----+--------------------+\n",
            "|Year|Score|               Title|\n",
            "|1968|   86|           Greetings|\n",
            "|1970|   17|         Bloody Mama|\n",
            "|1970|   73|             Hi Mom!|\n",
            "|1971|   40|         Born to Win|\n",
            "|1973|   98|        Mean Streets|\n",
            "|1973|   88|Bang the Drum Slowly|\n",
            "|1974|   97|       The Godfather|\n",
            "|1976|   41|     The Last Tycoon|\n",
            "|1976|   99|         Taxi Driver|\n",
            "+----+-----+--------------------+\n",
            "only showing top 10 rows\n",
            "\n"
          ]
        }
      ],
      "source": [
        "df = spark.read.csv('/content/drive/MyDrive/DataSet/deniro.csv')\n",
        "df.show(10)"
      ],
      "id": "wBJOHlX-gK1C"
    },
    {
      "cell_type": "code",
      "execution_count": null,
      "metadata": {
        "colab": {
          "base_uri": "https://localhost:8080/"
        },
        "id": "oxSkeaS3gK1D",
        "outputId": "502ba7a9-f1b9-4b59-e062-eaaa57659b35"
      },
      "outputs": [
        {
          "output_type": "stream",
          "name": "stdout",
          "text": [
            "root\n",
            " |-- _c0: string (nullable = true)\n",
            " |-- _c1: string (nullable = true)\n",
            " |-- _c2: string (nullable = true)\n",
            "\n"
          ]
        }
      ],
      "source": [
        "df.printSchema()"
      ],
      "id": "oxSkeaS3gK1D"
    },
    {
      "cell_type": "code",
      "execution_count": 73,
      "metadata": {
        "colab": {
          "base_uri": "https://localhost:8080/"
        },
        "id": "b9mgFGu7gK1D",
        "outputId": "7473578c-abbe-4d6c-ad0c-009f1021d745"
      },
      "outputs": [
        {
          "output_type": "stream",
          "name": "stdout",
          "text": [
            "+----+-----+--------------------+\n",
            "|Year|Score|               Title|\n",
            "+----+-----+--------------------+\n",
            "|1968|   86|           Greetings|\n",
            "|1970|   17|         Bloody Mama|\n",
            "|1970|   73|             Hi Mom!|\n",
            "|1971|   40|         Born to Win|\n",
            "|1973|   98|        Mean Streets|\n",
            "|1973|   88|Bang the Drum Slowly|\n",
            "|1974|   97|       The Godfather|\n",
            "|1976|   41|     The Last Tycoon|\n",
            "|1976|   99|         Taxi Driver|\n",
            "|1977|   47|                1900|\n",
            "+----+-----+--------------------+\n",
            "only showing top 10 rows\n",
            "\n"
          ]
        }
      ],
      "source": [
        "df = spark.read.csv('/content/drive/MyDrive/DataSet/deniro.csv',header=True,inferSchema=True, )\n",
        "\n",
        "df.show(10)"
      ],
      "id": "b9mgFGu7gK1D"
    },
    {
      "cell_type": "code",
      "execution_count": 74,
      "metadata": {
        "colab": {
          "base_uri": "https://localhost:8080/"
        },
        "id": "ztWboc4fgK1D",
        "outputId": "21b50fc4-2623-4ac0-e831-49ee7c45de48"
      },
      "outputs": [
        {
          "output_type": "stream",
          "name": "stdout",
          "text": [
            "root\n",
            " |-- Year: integer (nullable = true)\n",
            " |-- Score: integer (nullable = true)\n",
            " |-- Title: string (nullable = true)\n",
            "\n"
          ]
        }
      ],
      "source": [
        "df.printSchema()"
      ],
      "id": "ztWboc4fgK1D"
    },
    {
      "cell_type": "code",
      "execution_count": 76,
      "metadata": {
        "colab": {
          "base_uri": "https://localhost:8080/"
        },
        "id": "j7UfXropgK1D",
        "outputId": "34c50a29-f1bd-46e9-c6f8-418cdddaf83f"
      },
      "outputs": [
        {
          "output_type": "stream",
          "name": "stdout",
          "text": [
            "+----+-----+--------------------+\n",
            "|Year|Score|               Title|\n",
            "+----+-----+--------------------+\n",
            "|1970|   17|         Bloody Mama|\n",
            "|1971|   40|         Born to Win|\n",
            "|1976|   41|     The Last Tycoon|\n",
            "|1977|   47|                1900|\n",
            "|1989|   47|     We're No Angels|\n",
            "|1990|   29|      Stanley & Iris|\n",
            "|1994|   39|Mary Shelley's Fr...|\n",
            "|1996|   38|             The Fan|\n",
            "|1998|   38|  Great Expectations|\n",
            "|1999|   43|            Flawless|\n",
            "+----+-----+--------------------+\n",
            "only showing top 10 rows\n",
            "\n",
            "+----+-----+--------------------+\n",
            "|Year|Score|               Title|\n",
            "+----+-----+--------------------+\n",
            "|1991|   76|           Cape Fear|\n",
            "|1991|   69|            Mistress|\n",
            "|1991|   65| Guilty by Suspicion|\n",
            "|1991|   71|           Backdraft|\n",
            "|1992|   87|        Thunderheart|\n",
            "|1992|   67|  Night and the City|\n",
            "|1993|   75|     This Boy's Life|\n",
            "|1993|   78|   Mad Dog and Glory|\n",
            "|1993|   96|        A Bronx Tale|\n",
            "|1994|   39|Mary Shelley's Fr...|\n",
            "+----+-----+--------------------+\n",
            "only showing top 10 rows\n",
            "\n"
          ]
        }
      ],
      "source": [
        "df.filter(df['Score']<50).show(10)\n",
        "df.filter(df['Year'] > 1990).show(10)"
      ],
      "id": "j7UfXropgK1D"
    },
    {
      "cell_type": "code",
      "execution_count": 77,
      "metadata": {
        "colab": {
          "base_uri": "https://localhost:8080/"
        },
        "id": "-AaIDn_ggK1E",
        "outputId": "ea94e39e-3457-4d4b-f7e5-f05b1716d655"
      },
      "outputs": [
        {
          "output_type": "stream",
          "name": "stdout",
          "text": [
            "+----------+\n",
            "|avg(Score)|\n",
            "+----------+\n",
            "|      70.5|\n",
            "+----------+\n",
            "\n"
          ]
        }
      ],
      "source": [
        "import pyspark.sql.functions as f\n",
        "df.filter(df['Year']<1980).select(f.avg('Score')).show()\n"
      ],
      "id": "-AaIDn_ggK1E"
    },
    {
      "cell_type": "code",
      "execution_count": null,
      "metadata": {
        "id": "I3V9OExFgK1E"
      },
      "outputs": [],
      "source": [
        "spark.stop()\n"
      ],
      "id": "I3V9OExFgK1E"
    }
  ],
  "metadata": {
    "kernelspec": {
      "display_name": "Python 3 (ipykernel)",
      "language": "python",
      "name": "python3"
    },
    "language_info": {
      "codemirror_mode": {
        "name": "ipython",
        "version": 3
      },
      "file_extension": ".py",
      "mimetype": "text/x-python",
      "name": "python",
      "nbconvert_exporter": "python",
      "pygments_lexer": "ipython3",
      "version": "3.8.5"
    },
    "colab": {
      "provenance": [],
      "toc_visible": true,
      "include_colab_link": true
    }
  },
  "nbformat": 4,
  "nbformat_minor": 5
}