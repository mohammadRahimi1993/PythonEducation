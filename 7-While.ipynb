{
 "cells": [
  {
   "cell_type": "markdown",
   "id": "72987213",
   "metadata": {},
   "source": [
    "# while"
   ]
  },
  {
   "cell_type": "code",
   "execution_count": 6,
   "id": "aa709fa9",
   "metadata": {},
   "outputs": [
    {
     "name": "stdout",
     "output_type": "stream",
     "text": [
      "2 3 4 5 6 7 8 9 10 \n",
      "1 2 3 4 5 6 7 8 9 "
     ]
    }
   ],
   "source": [
    "i = 1\n",
    "while i<10:\n",
    "    i = i + 1\n",
    "    print(i, end=\" \")\n",
    "    \n",
    "print()\n",
    "\n",
    "for i in range(1,10):\n",
    "    print(i, end=\" \")"
   ]
  },
  {
   "cell_type": "code",
   "execution_count": 7,
   "id": "1acd365e",
   "metadata": {},
   "outputs": [
    {
     "name": "stdout",
     "output_type": "stream",
     "text": [
      "Enter username: hassan\n",
      "Enter password: 123456\n",
      "Please try again: \n",
      "Enter username: ali\n",
      "Enter password: 123456\n",
      "welcome\n"
     ]
    }
   ],
   "source": [
    "username = input(\"Enter username: \")\n",
    "password = input(\"Enter password: \")\n",
    "while username != 'ali' or password != \"123456\":\n",
    "    print(\"Invalid, Please try again: \")\n",
    "    username = input(\"Enter username: \")\n",
    "    password = input(\"Enter password: \") \n",
    "print(\"welcome\")"
   ]
  },
  {
   "cell_type": "code",
   "execution_count": 10,
   "id": "f48fff8b",
   "metadata": {},
   "outputs": [
    {
     "name": "stdout",
     "output_type": "stream",
     "text": [
      "0 2 4 6 8 10 12 14 16 18 20 22 24 26 28 30 32 34 36 38 40 42 44 46 48 50 52 54 56 58 60 62 64 66 68 70 72 74 76 78 80 82 84 86 88 90 92 94 96 98 100 "
     ]
    }
   ],
   "source": [
    "i=0\n",
    "while i <= 100:\n",
    "    if i % 2 == 0:\n",
    "        print(i,end=\" \")\n",
    "    else:\n",
    "        i = i + 1\n",
    "        continue;\n",
    "    i = i + 1\n",
    "    # statement_1\n",
    "    # statement_2"
   ]
  },
  {
   "cell_type": "code",
   "execution_count": 11,
   "id": "d6308765",
   "metadata": {},
   "outputs": [
    {
     "name": "stdout",
     "output_type": "stream",
     "text": [
      "0\n",
      "1\n",
      "2\n",
      "3\n",
      "4\n",
      "5\n"
     ]
    }
   ],
   "source": [
    "i = 0\n",
    "while i < 10:\n",
    "    print(i)\n",
    "    if i == 5:\n",
    "        break\n",
    "    i=i+1"
   ]
  },
  {
   "cell_type": "code",
   "execution_count": 13,
   "id": "8d06b9bf",
   "metadata": {},
   "outputs": [
    {
     "name": "stdout",
     "output_type": "stream",
     "text": [
      "1\n",
      "2\n",
      "3\n",
      "4\n",
      "5\n",
      "6\n",
      "i is out of range\n"
     ]
    }
   ],
   "source": [
    "i = 1\n",
    "while i <= 6:\n",
    "    print(i)\n",
    "    i = i + 1\n",
    "else:\n",
    "    print(\"i is out of range\")"
   ]
  },
  {
   "cell_type": "code",
   "execution_count": 14,
   "id": "9244fab8",
   "metadata": {},
   "outputs": [
    {
     "name": "stdout",
     "output_type": "stream",
     "text": [
      "🤗\n"
     ]
    }
   ],
   "source": [
    "print(\"\\U0001F917\")"
   ]
  },
  {
   "cell_type": "code",
   "execution_count": 20,
   "id": "ccc81f58",
   "metadata": {},
   "outputs": [
    {
     "name": "stdout",
     "output_type": "stream",
     "text": [
      "🤗\n",
      "🤗🤗🤗\n",
      "🤗🤗🤗🤗🤗\n"
     ]
    }
   ],
   "source": [
    "i = 1 \n",
    "while i <= 6:\n",
    "    print(i*\"\\U0001F917\")\n",
    "    i = i + 2"
   ]
  },
  {
   "cell_type": "code",
   "execution_count": null,
   "id": "033f0a6c",
   "metadata": {},
   "outputs": [],
   "source": []
  }
 ],
 "metadata": {
  "kernelspec": {
   "display_name": "Python 3 (ipykernel)",
   "language": "python",
   "name": "python3"
  },
  "language_info": {
   "codemirror_mode": {
    "name": "ipython",
    "version": 3
   },
   "file_extension": ".py",
   "mimetype": "text/x-python",
   "name": "python",
   "nbconvert_exporter": "python",
   "pygments_lexer": "ipython3",
   "version": "3.7.9"
  }
 },
 "nbformat": 4,
 "nbformat_minor": 5
}
